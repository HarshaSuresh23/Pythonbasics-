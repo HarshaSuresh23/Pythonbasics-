{
  "nbformat": 4,
  "nbformat_minor": 0,
  "metadata": {
    "colab": {
      "provenance": [],
      "include_colab_link": true
    },
    "kernelspec": {
      "name": "python3",
      "display_name": "Python 3"
    }
  },
  "cells": [
    {
      "cell_type": "markdown",
      "metadata": {
        "id": "view-in-github",
        "colab_type": "text"
      },
      "source": [
        "<a href=\"https://colab.research.google.com/github/HarshaSuresh23/Pythonbasics-/blob/main/Lesson_5_Python_Lists_I.ipynb\" target=\"_parent\"><img src=\"https://colab.research.google.com/assets/colab-badge.svg\" alt=\"Open In Colab\"/></a>"
      ]
    },
    {
      "cell_type": "markdown",
      "metadata": {
        "id": "ywVdfNdkVjZo"
      },
      "source": [
        "# Lesson 5: Python Lists I"
      ]
    },
    {
      "cell_type": "markdown",
      "metadata": {
        "id": "GAAneH7qo-zb"
      },
      "source": [
        "---"
      ]
    },
    {
      "cell_type": "markdown",
      "metadata": {
        "id": "BMtvVwHNipWH"
      },
      "source": [
        "<center><img src=\"https://curriculum.whitehatjr.com/APT+Asset/Final+C2+images/q+and+a_1.png\"/></center>\n",
        "<h3><font color=red><b>\n",
        "<img src=\"https://curriculum.whitehatjr.com/APT+Asset/Final+C2+images/question.jpg\"/> What is a variable? <a href=\"https://curriculum.whitehatjr.com/APT+Asset/C5+images/variable.PNG\"><img src=\"https://curriculum.whitehatjr.com/APT+Asset/Final+C2+images/download.jpg\"/> </a></h3></b>\n",
        "\n",
        "<img src=\"https://curriculum.whitehatjr.com/APT+Asset/C5+images/APT+C2-02+(1).png\"/>\n",
        "\n",
        "<h3><font color=red><b>\n",
        "<img src=\"https://curriculum.whitehatjr.com/APT+Asset/Final+C2+images/question.jpg\"/> How to store multiple values at a time inside a single variable? <a href=\"https://curriculum.whitehatjr.com/APT+Asset/C5+images/list_gif.gif\"><img src=\"https://curriculum.whitehatjr.com/APT+Asset/Final+C2+images/download.jpg\"/> </a></h3></b>\n",
        "\n",
        "<center>\n",
        "\n",
        "<img src=\"https://curriculum.whitehatjr.com/APT+Asset/C5+images/variable_gif.gif\"/>\n",
        "\n"
      ]
    },
    {
      "cell_type": "markdown",
      "metadata": {
        "id": "1dCPsxwji8UF"
      },
      "source": [
        "---"
      ]
    },
    {
      "cell_type": "markdown",
      "metadata": {
        "id": "6rgqCdWj8OEI"
      },
      "source": [
        "### Recap\n",
        "\n",
        "In the previous class, we learned that each value in a list is generally referred to as an **item** or an **element**.\n",
        "<center>\n",
        "<img src=\"https://curriculum.whitehatjr.com/APT+Asset/APT+C3+images/valid_entries2.PNG\"/>\n",
        "</center>\n",
        "\n",
        "We also created a Python list which stores the names of the countries who won the FIFA world cup from `1982` till `2018`.\n",
        "\n",
        "|Year|Winner|\n",
        "|-|-|\n",
        "|1982|Italy|\n",
        "|1986|Argentina|\n",
        "|1990|Germany|\n",
        "|1994|Brazil|\n",
        "|1998|France|\n",
        "|2002|Brazil|\n",
        "|2006|Italy|\n",
        "|2010|Spain|\n",
        "|2014|Germany|\n",
        "|2018|France|\n",
        "\n",
        "We stored the list in the `fifa_wc_winners` variable.\n",
        "\n",
        "<img src=\"https://curriculum.whitehatjr.com/APT+Asset/APT+C4+images/list.png\"/>"
      ]
    },
    {
      "cell_type": "code",
      "metadata": {
        "id": "kRE_dZzB-Fy_",
        "colab": {
          "base_uri": "https://localhost:8080/"
        },
        "outputId": "1feb5ee9-9c64-4471-b698-d2b35ade5923"
      },
      "source": [
        "# Teacher Action: Run the code below to activate the Python list containing all the winners of FIFA world cup from 1982 to 2018.\n",
        "fifa_wc_winners = ['Italy', 'Argentina', 'Germany', 'Brazil', 'France', 'Brazil', 'Italy', 'Spain', 'Germany', 'France']\n",
        "fifa_wc_winners"
      ],
      "execution_count": null,
      "outputs": [
        {
          "output_type": "execute_result",
          "data": {
            "text/plain": [
              "['Italy',\n",
              " 'Argentina',\n",
              " 'Germany',\n",
              " 'Brazil',\n",
              " 'France',\n",
              " 'Brazil',\n",
              " 'Italy',\n",
              " 'Spain',\n",
              " 'Germany',\n",
              " 'France']"
            ]
          },
          "metadata": {
            "tags": []
          },
          "execution_count": 1
        }
      ]
    },
    {
      "cell_type": "markdown",
      "metadata": {
        "id": "Ane9yniz8_BS"
      },
      "source": [
        "\n",
        "\n",
        "In today's class, we will learn more about Python lists.\n",
        "\n",
        "We will also re-create the count-based algorithm we created in the previous class using the Python lists concepts.\n",
        "\n",
        "\n"
      ]
    },
    {
      "cell_type": "markdown",
      "metadata": {
        "id": "lIrcRcod-i1O"
      },
      "source": [
        "---"
      ]
    },
    {
      "cell_type": "markdown",
      "metadata": {
        "id": "mbVPMRga_0NW"
      },
      "source": [
        "### Features of Python List\n",
        "\n",
        "Before moving to activities, let us explore some basic features of Python list.\n",
        "\n",
        "1. List can store elements of same type or of different types.\n",
        "<center>\n",
        " <img src=\"https://curriculum.whitehatjr.com/APT+Asset/C5+images/whj-bookshelf-book-apt-c5-07-01.png\"/>\n",
        "\n",
        "2. You can count the number of times an element appears in the list using `count()` function.\n",
        "\n",
        "<img src=\"https://curriculum.whitehatjr.com/APT+Asset/C5+images/whj-notepad-count-apt-c5-01-01.png\" height=520/>\n",
        "\n",
        "3. You can add an object at the end of the list using `append()` function.\n",
        "\n",
        "<img src=\"https://curriculum.whitehatjr.com/APT+Asset/C5+images/handwriting-.gif\" height=520/>\n",
        "\n",
        "4. You can count the number of items stored in the list using `len()` function.\n",
        "\n",
        "<img src=\"https://curriculum.whitehatjr.com/APT+Asset/C5+images/whj-notepad-lens-apt-c5-02-01.png\" height=520/>\n",
        "\n",
        "\n",
        "5. You can remove an item from the list using `remove()` and `pop()` function.\n",
        "\n",
        "<img src=\"https://curriculum.whitehatjr.com/APT+Asset/C5+images/whj-hand-erasing-apt-c5-05.gif\"/>\n",
        "\n",
        "6. You can replace an existing item in a list with a new item.\n",
        "\n",
        "<img src=\"https://curriculum.whitehatjr.com/APT+Asset/C5+images/whj-hand-newword-apt-c5-06.gif\"/>\n",
        "\n",
        "\n",
        "\n",
        "Today we will learn  how to count the number of times each item appear in the list and how to append an item to a list. Remaining features will be done in the next class.\n"
      ]
    },
    {
      "cell_type": "markdown",
      "metadata": {
        "id": "RS78Jcq4Cb8s"
      },
      "source": [
        "---"
      ]
    },
    {
      "cell_type": "markdown",
      "metadata": {
        "id": "ulZE26jaMU3P"
      },
      "source": [
        "#### Activity 1: The `count()` Function\n",
        "\n",
        "The  `count()` function is used to count the number of times an element appears in the list.\n",
        "\n",
        "**For E.g:**\n",
        "<img src=\"https://curriculum.whitehatjr.com/APT+Asset/C5+images/whj-cupboard-counts-apt-c5-10-01.png\"/>\n",
        "\n",
        "\n",
        "Recall the `update_counts()` function that we created in one of our previous class for our Mind Reader game.\n",
        "\n",
        "<font color=red><b>\n",
        "<img src=\"https://curriculum.whitehatjr.com/APT+Asset/Final+C2+images/question.jpg\"/>Why we use this `update_counts()` function in our algorithm?</b></font>\n",
        "\n",
        "```python\n",
        "def update_counts(player_input):\n",
        "  global count_zero, count_one\n",
        "  if player_input == 0:\n",
        "    count_zero = count_zero + 1\n",
        "  else:\n",
        "    count_one = count_one + 1\n",
        "```\n",
        "\n",
        "In another version of the Mind Reader game, we are going to perform following task:\n",
        "1. Record the player inputs in a Python list.\n",
        "2. Count the number of times a player played `0` and `1` using the  readymade `count()` function of Python lists.\n",
        "\n",
        "This will eliminate the need for the `update_counts()` function.\n",
        "\n",
        "To use the `count()` function, you just need to write the list followed by the dot (`.`) operator followed by the `count()` function. Enter the item as an input to the `count()` function whose occurrence you wish to count.\n",
        "\n",
        "**Syntax:** `list_name.count(item)`\n",
        "\n",
        "\n",
        "\n",
        "\n",
        "Let's find out the number of times `'France'` and `'Brazil'` have won the world cup(s) between the years `1982` and `2018`."
      ]
    },
    {
      "cell_type": "code",
      "metadata": {
        "id": "0HLcxrAxPBwa",
        "colab": {
          "base_uri": "https://localhost:8080/"
        },
        "outputId": "22a9cb86-74cd-4258-a974-8640c4f52a58"
      },
      "source": [
        "# Student Action: Count the number of times 'France' has won the world cup between the years 1982 and 2018.\n",
        "fifa_wc_winners.count('France')"
      ],
      "execution_count": null,
      "outputs": [
        {
          "output_type": "execute_result",
          "data": {
            "text/plain": [
              "2"
            ]
          },
          "metadata": {
            "tags": []
          },
          "execution_count": 3
        }
      ]
    },
    {
      "cell_type": "markdown",
      "metadata": {
        "id": "hwKc18slPPxC"
      },
      "source": [
        "So, `'France'` has won the world cup twice."
      ]
    },
    {
      "cell_type": "code",
      "metadata": {
        "id": "_dHF77d8PWDU",
        "colab": {
          "base_uri": "https://localhost:8080/"
        },
        "outputId": "8adc04a6-ba0d-4c65-a3d5-77ffb06c0dc3"
      },
      "source": [
        "# Student Action: Count the number of times 'Brazil' has won the world cup between the years 1982 and 2018.\n",
        "fifa_wc_winners.count('Brazil')"
      ],
      "execution_count": null,
      "outputs": [
        {
          "output_type": "execute_result",
          "data": {
            "text/plain": [
              "2"
            ]
          },
          "metadata": {
            "tags": []
          },
          "execution_count": 4
        }
      ]
    },
    {
      "cell_type": "markdown",
      "metadata": {
        "id": "vIlGRLvlPbsN"
      },
      "source": [
        "And, `'Brazil'` has also won the world cup twice between the years `1982` and `2018`."
      ]
    },
    {
      "cell_type": "markdown",
      "metadata": {
        "id": "im74znVg_zWA"
      },
      "source": [
        "---"
      ]
    },
    {
      "cell_type": "markdown",
      "metadata": {
        "id": "xCBbVdNS4EC-"
      },
      "source": [
        "#### Activity 2: An Empty List\n",
        "\n",
        "An empty list is a list with no elements.\n",
        "\n",
        "<img src=\"https://curriculum.whitehatjr.com/APT+Asset/C5+images/whj-shelf-empty-apt-c5-08-01.png\" height=400/>\n",
        "\n",
        "\n",
        "Let's create a list which will record the player inputs. Let's store it in a variable with the name `player_inputs_list`. Before the beginning of the game, the list will be empty. That means, it will NOT contain any player input. So, let's create an empty list and store it in the `player_inputs_list` variable.\n",
        "\n",
        "\n"
      ]
    },
    {
      "cell_type": "code",
      "metadata": {
        "id": "WS1e7xBHAN4S",
        "colab": {
          "base_uri": "https://localhost:8080/"
        },
        "outputId": "449ecbaf-81fb-4195-8eaf-03de252bf748"
      },
      "source": [
        "# Student Action: Create an empty list and store in a variable with name 'player_inputs_list'.\n",
        "player_input_list=[]\n",
        "player_input_list"
      ],
      "execution_count": null,
      "outputs": [
        {
          "output_type": "execute_result",
          "data": {
            "text/plain": [
              "[]"
            ]
          },
          "metadata": {},
          "execution_count": 1
        }
      ]
    },
    {
      "cell_type": "markdown",
      "metadata": {
        "id": "-gD3Yb0RAz6T"
      },
      "source": [
        "As you can see, we have created an empty list."
      ]
    },
    {
      "cell_type": "markdown",
      "metadata": {
        "id": "OHP5X39HA47W"
      },
      "source": [
        "---"
      ]
    },
    {
      "cell_type": "markdown",
      "metadata": {
        "id": "hhSZVe9aA5j2"
      },
      "source": [
        "#### Activity 3: The `append()` Function^^\n",
        "\n",
        "To add an item to a Python list, you can use the `append()` function. A new item always gets added at the right-most end of a list.\n",
        "\n",
        "<img src=\"https://curriculum.whitehatjr.com/APT+Asset/C5+images/whj-hand-flowepot-apt-c5-09.gif\" width=800>\n",
        "\n",
        "To use the `append()` function, you just need to write the list followed by the dot (`.`) operator followed by the `append()` function. Enter the item as an input to the `append()` function which you need to add to a list.\n",
        "\n",
        "**Syntax:** `list_name.append(item)`\n",
        "\n",
        "\n",
        "\n",
        "Suppose a player plays `0, 0, 1, 0, 1` for the first five attempts. Let's add these inputs to the list stored in the `player_inputs_list` variable."
      ]
    },
    {
      "cell_type": "code",
      "metadata": {
        "id": "2XfXqu4OB--r",
        "colab": {
          "base_uri": "https://localhost:8080/"
        },
        "outputId": "121971ae-2e65-4d87-ac71-9862490aacf3"
      },
      "source": [
        "# Student Action: Using the 'append()' function, add the items 0, 0, 1, 0 and 1 to the list stored in the 'player_inputs_list' variable.\n",
        "# Print the updated list after adding each item to the 'player_inputs_list'.\n",
        "player_input_list=[]\n",
        "# Empty list\n",
        "\n",
        "# First item.\n",
        "player_input_list.append(0)\n",
        "print(\"after adding the first item :\",player_input_list)\n",
        "# Second item.\n",
        "player_input_list.append(0)\n",
        "print(\"after adding the second item:\",player_input_list)\n",
        "# Third item.\n",
        "player_input_list.append(1)\n",
        "print(\"after adding the third item:\",player_input_list)\n",
        "# Fourth item.\n",
        "player_input_list.append(0)\n",
        "print(\"after adding the fourth item:\",player_input_list)\n",
        "# Fifth item.\n",
        "player_input_list.append(1)\n",
        "print(\"after adding the fifth item:\",player_input_list)"
      ],
      "execution_count": null,
      "outputs": [
        {
          "output_type": "stream",
          "text": [
            "after adding the first item : [0]\n",
            "after adding the second item: [0, 0]\n",
            "after adding the third item: [0, 0, 1]\n",
            "after adding the fourth item: [0, 0, 1, 0]\n",
            "after adding the fifth item: [0, 0, 1, 0, 1]\n"
          ],
          "name": "stdout"
        }
      ]
    },
    {
      "cell_type": "markdown",
      "metadata": {
        "id": "-bBBRCNCGuoj"
      },
      "source": [
        "As you can see, a new item gets added at the right-most end of the list. Let's count the number of times `0` and `1` appear in the `player_inputs_list` using the `count()` function."
      ]
    },
    {
      "cell_type": "code",
      "metadata": {
        "id": "x__YLMdTK3Wy",
        "colab": {
          "base_uri": "https://localhost:8080/"
        },
        "outputId": "6cd5416b-bbab-4d83-c08b-b7dddb58fb59"
      },
      "source": [
        "# Student Action: Count the number of times 0 and 1 appear in the 'player_inputs_list'.\n",
        "\n",
        "print(\"player enter 0:\",player_input_list.count(0))\n",
        "print(\"player entered 1:\",player_input_list.count(1))\n"
      ],
      "execution_count": null,
      "outputs": [
        {
          "output_type": "stream",
          "text": [
            "player enter 0: 3\n",
            "player entered 1: 2\n"
          ],
          "name": "stdout"
        }
      ]
    },
    {
      "cell_type": "markdown",
      "metadata": {
        "id": "8Sl-Ae7JLHdH"
      },
      "source": [
        "So, `0` appears thrice and `1` appears twice in the `players_inputs_list`."
      ]
    },
    {
      "cell_type": "markdown",
      "metadata": {
        "id": "GkQYzaCI4DGs"
      },
      "source": [
        "---"
      ]
    },
    {
      "cell_type": "markdown",
      "metadata": {
        "id": "0LuQTtRnSAWj"
      },
      "source": [
        "#### Activity 4: The Revised `prediction()` Function^\n",
        "\n",
        "Recall the `prediction()` function that we created in one of the previous class.\n",
        "\n",
        "\n",
        "```python\n",
        "def prediction():\n",
        "  if count_zero > count_one:\n",
        "    predict = 0\n",
        "  elif count_one > count_zero:\n",
        "    predict = 1\n",
        "  else:\n",
        "    predict = random.randint(0, 1)\n",
        "  \n",
        "  return predict\n",
        "```\n",
        "Now, using the knowledge of Python lists, let's re-define the `prediction()` function that we created in our previous class/lesson.\n",
        "\n",
        "IInside this function:\n",
        "\n",
        "1. Create two variables `count_zero` and `count_one` to store the number of times a player has entered `0` and `1` respectively.\n",
        "\n",
        "2. Using the `count()` function, count the number of times a player has entered `0` and `1`.\n",
        "```\n",
        "player_inputs_list.count(0)  \n",
        "player_inputs_list.count(1)\n",
        "```\n",
        "\n",
        "  Then store them in the `count_zero` and `count_one` variables.\n",
        "3. Compare the values of the `count_zero` and `count_one` variables.\n",
        "\n",
        "\n",
        "\n",
        "  - If `count_zero > count_one`, the `prediction()` function should return `0` as\n",
        "the prediction.\n",
        "\n",
        "  - Else if `count_one > count_zero`, the `prediction()` function should return `1` as the prediction.\n",
        "\n",
        "  - Else the `prediction()` function should return either `0` or `1` randomly as the prediction."
      ]
    },
    {
      "cell_type": "code",
      "metadata": {
        "id": "HkzbxzQlJZDf"
      },
      "source": [
        "# Student Action: Recreate the 'prediction()' function using Python lists.\n",
        "import random\n",
        "def predction():\n",
        "  count_zero=player_input_list.count(0)\n",
        "  count_one=player_input_list.count(1)\n",
        "  if count_zero>count_one:\n",
        "    predict= 0\n",
        "  elif count_one>count_zero:\n",
        "    predict= 1\n",
        "  else:\n",
        "    predict=random.randint(0,1)\n",
        "  return predict"
      ],
      "execution_count": null,
      "outputs": []
    },
    {
      "cell_type": "markdown",
      "metadata": {
        "id": "FGSjeSTEVq-1"
      },
      "source": [
        "---"
      ]
    },
    {
      "cell_type": "markdown",
      "metadata": {
        "id": "_9jUqOBlMAQC"
      },
      "source": [
        "#### Activity 5: Count Based Mind Reader Game Algorithm Using Python Lists^^^\n",
        "\n",
        "Now, let's run the Mind Reader game with the new `prediction()` function which uses a Python list stored in the `player_inputs_list` variable.\n",
        "\n",
        "Also, there is a slight change in the `gameplay()` function. After getting the `predicted` value from the `prediction()` function, we will add the current `player_input` value to the `player_inputs_list` using the `append()` function.\n",
        "\n",
        "<img src=\"https://curriculum.whitehatjr.com/APT+Asset/C5+images/gameplay_new.png\"/>\n",
        "\n"
      ]
    },
    {
      "cell_type": "code",
      "metadata": {
        "id": "dhWD_3x011uH",
        "colab": {
          "base_uri": "https://localhost:8080/"
        },
        "outputId": "e43b4f61-ba11-4d31-f529-f831f356ccea"
      },
      "source": [
        "# Student Action: Use the revised 'prediction()' function to create the count based Mind Reader game algorithm.\n",
        "# Import the random module\n",
        "import random\n",
        "# Create an empty list 'player_inputs_list'.\n",
        "player_input_list=[]\n",
        "# Create the 'player_score' and 'computer_score' variables. Set their initial values equal to 0.\n",
        "player_score=0\n",
        "computer_score=0\n",
        "# Declare the 'prediction()' function here.\n",
        "def prediction():\n",
        "  count_zero=player_input_list.count(0)\n",
        "  count_one=player_input_list.count(1)\n",
        "  if count_zero>count_one:\n",
        "    predict= 0\n",
        "  elif count_one>count_zero:\n",
        "    predict=1\n",
        "  else:\n",
        "    predict=random.randint(0,1)\n",
        "  return predict\n",
        "# Declare the 'update_scores()' function here.\n",
        "def update_scores(player_input,predicted):\n",
        "  global player_score,computer_score\n",
        "  if player_input==predicted:\n",
        "    computer_score=computer_score+1\n",
        "    print(\"computer score is:\",computer_score)\n",
        "    print(\"player score is:\",player_score)\n",
        "  else :\n",
        "    player_score=player_score+1\n",
        "    print(\"computer score is:\",computer_score)\n",
        "    print(\"player score is:\",player_score)\n",
        "# Declare the 'gameplay()' function here.\n",
        "def gameplay():\n",
        "  valid_entries=['0','1']\n",
        "  while True :\n",
        "    predicted=prediction()\n",
        "    player_input=input(\"enter either 0 or 1:\")\n",
        "    while player_input not in valid_entries:\n",
        "      print(\"invalid input\")\n",
        "      print(\"enter a valid input:\")\n",
        "      player_input=input(\"enter either 0 or 1:\")\n",
        "    player_input=int(player_input)\n",
        "    player_input_list.append(player_input)\n",
        "    update_scores(player_input,predicted)\n",
        "    if player_score==10:\n",
        "      print(\"Congrats you won\")\n",
        "      break\n",
        "    elif computer_score==10:\n",
        "      print(\"bad luck you lost\")\n",
        "      break\n",
        "\n",
        "# Call the 'gameplay()' function here.\n",
        "gameplay()"
      ],
      "execution_count": null,
      "outputs": [
        {
          "output_type": "stream",
          "text": [
            "enter either 0 or 1:1\n",
            "computer score is: 1\n",
            "player score is: 0\n",
            "enter either 0 or 1:0\n",
            "computer score is: 1\n",
            "player score is: 1\n",
            "enter either 0 or 1:0\n",
            "computer score is: 2\n",
            "player score is: 1\n",
            "enter either 0 or 1:0\n",
            "computer score is: 3\n",
            "player score is: 1\n",
            "enter either 0 or 1:1\n",
            "computer score is: 3\n",
            "player score is: 2\n",
            "enter either 0 or 1:0\n",
            "computer score is: 4\n",
            "player score is: 2\n",
            "enter either 0 or 1:1\n",
            "computer score is: 4\n",
            "player score is: 3\n",
            "enter either 0 or 1:1\n",
            "computer score is: 4\n",
            "player score is: 4\n",
            "enter either 0 or 1:1\n",
            "computer score is: 4\n",
            "player score is: 5\n",
            "enter either 0 or 1:1\n",
            "computer score is: 5\n",
            "player score is: 5\n",
            "enter either 0 or 1:0\n",
            "computer score is: 5\n",
            "player score is: 6\n",
            "enter either 0 or 1:1\n",
            "computer score is: 6\n",
            "player score is: 6\n",
            "enter either 0 or 1:1\n",
            "computer score is: 7\n",
            "player score is: 6\n",
            "enter either 0 or 1:0\n",
            "computer score is: 7\n",
            "player score is: 7\n",
            "enter either 0 or 1:0\n",
            "computer score is: 7\n",
            "player score is: 8\n",
            "enter either 0 or 1:1\n",
            "computer score is: 8\n",
            "player score is: 8\n",
            "enter either 0 or 1:0\n",
            "computer score is: 8\n",
            "player score is: 9\n",
            "enter either 0 or 1:0\n",
            "computer score is: 8\n",
            "player score is: 10\n",
            "Congrats you won\n"
          ],
          "name": "stdout"
        }
      ]
    },
    {
      "cell_type": "markdown",
      "metadata": {
        "id": "E_xx932hSYn9"
      },
      "source": [
        "At the end of the game, if you want to look at the player inputs, then you can print the `player_inputs_list`."
      ]
    },
    {
      "cell_type": "code",
      "metadata": {
        "id": "fTclQOhWSYMs",
        "colab": {
          "base_uri": "https://localhost:8080/"
        },
        "outputId": "4c00179e-4657-46ef-ec8c-f5f0ac6ea49b"
      },
      "source": [
        "# Student Action: Print the 'player_inputs_list'.\n",
        "player_input_list"
      ],
      "execution_count": null,
      "outputs": [
        {
          "output_type": "execute_result",
          "data": {
            "text/plain": [
              "[1, 0, 0, 0, 1, 0, 1, 1, 1, 1, 0, 1, 1, 0, 0, 1, 0, 0]"
            ]
          },
          "metadata": {
            "tags": []
          },
          "execution_count": 14
        }
      ]
    },
    {
      "cell_type": "markdown",
      "metadata": {
        "id": "K9lJqak6SztT"
      },
      "source": [
        "In the next class, we will continue learning more concepts of Python lists."
      ]
    },
    {
      "cell_type": "markdown",
      "metadata": {
        "id": "mH4-6NfgSxyW"
      },
      "source": [
        "---"
      ]
    },
    {
      "cell_type": "markdown",
      "metadata": {
        "id": "LlhaWitl_FMy"
      },
      "source": [
        "### Wrap-Up Quiz\n",
        "\n",
        "\n",
        "<img src=\"https://curriculum.whitehatjr.com/APT+Asset/C5+images/q1.PNG\"/>\n",
        "\n",
        "\n",
        "<br/>\n",
        "<img src=\"https://curriculum.whitehatjr.com/APT+Asset/C5+images/q2.PNG\"/>\n",
        "\n",
        "\n",
        "\n",
        "\n",
        "\n",
        "\n"
      ]
    },
    {
      "cell_type": "markdown",
      "metadata": {
        "id": "JQMJo3LE_G6n"
      },
      "source": [
        "---"
      ]
    }
  ]
}