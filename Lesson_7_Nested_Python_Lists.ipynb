{
  "nbformat": 4,
  "nbformat_minor": 0,
  "metadata": {
    "colab": {
      "provenance": [],
      "include_colab_link": true
    },
    "kernelspec": {
      "name": "python3",
      "display_name": "Python 3"
    }
  },
  "cells": [
    {
      "cell_type": "markdown",
      "metadata": {
        "id": "view-in-github",
        "colab_type": "text"
      },
      "source": [
        "<a href=\"https://colab.research.google.com/github/HarshaSuresh23/Pythonbasics-/blob/main/Lesson_7_Nested_Python_Lists.ipynb\" target=\"_parent\"><img src=\"https://colab.research.google.com/assets/colab-badge.svg\" alt=\"Open In Colab\"/></a>"
      ]
    },
    {
      "cell_type": "markdown",
      "metadata": {
        "id": "7LlG_PPFjJUz"
      },
      "source": [
        "# Lesson 7: Nested Python Lists\n"
      ]
    },
    {
      "cell_type": "markdown",
      "metadata": {
        "id": "ErGRIU4PzX8z"
      },
      "source": [
        "---"
      ]
    },
    {
      "cell_type": "markdown",
      "metadata": {
        "id": "-p_Bxu13Vh6M"
      },
      "source": [
        "<center><img src=\"https://curriculum.whitehatjr.com/APT+Asset/Final+C2+images/q+and+a_1.png\"/></center>\n",
        "<h3><font color=red><b>\n",
        "<img src=\"https://curriculum.whitehatjr.com/APT+Asset/Final+C2+images/question.jpg\"/>Have you ever been to a supermarket to buy some fruits and vegetables or anything?\n",
        "\n",
        "<img src=\"https://curriculum.whitehatjr.com/APT+Asset/APT+C7+images/APT-C7-01-GROCERY+BAG-01.jpg\" height=400/>\n",
        "\n",
        "<h3><font color=red><b>\n",
        "<img src=\"https://curriculum.whitehatjr.com/APT+Asset/Final+C2+images/question.jpg\"/>Assume that you are already carrying a fruit basket and you also want to buy vegetables, eggs, milk packets.\n",
        "\n",
        "<img src=\"https://curriculum.whitehatjr.com/APT+Asset/APT+C7+images/APT-C7-02-BASKETS-01.jpg\"  height=400/>\n",
        "\n",
        "\n",
        "<h3><font color=red><b>\n",
        "<img src=\"https://curriculum.whitehatjr.com/APT+Asset/Final+C2+images/question.jpg\"/>How will you carry all these items? <a href=\"https://curriculum.whitehatjr.com/APT+Asset/APT+C7+images/nested-python-list-gif+(1).gif\"><img src=\"https://curriculum.whitehatjr.com/APT+Asset/Final+C2+images/download.jpg\"/></a>\n",
        "\n",
        "<br/>\n",
        "\n",
        "<img src=\"https://curriculum.whitehatjr.com/APT+Asset/APT+C7+images/APT-CT-03-THINKING-GIRL-01.png\" height=400/>\n",
        "\n",
        "\n",
        "\n"
      ]
    },
    {
      "cell_type": "markdown",
      "metadata": {
        "id": "M3YxAZeBzZ7O"
      },
      "source": [
        "---"
      ]
    },
    {
      "cell_type": "markdown",
      "metadata": {
        "id": "PUgYXGbR-0Uh"
      },
      "source": [
        "#### Activity 1: Data Representation In Two-Dimensions Using Python Lists^^\n",
        "\n",
        "A two-dimensional (or a tabular) data can be represented using a Python list.\n",
        "\n",
        "Consider the example shown below. Here we have a two-dimensional (or a tabular) data of 9 planets and their corresponding diameters (in km).\n",
        "\n",
        "<img src=\"https://curriculum.whitehatjr.com/APT+Asset/APT+C7+images/apt-c7-planets-08-01.png\" height=450/>\n",
        "\n",
        "\n",
        "Suppose we want to create a list of all planets and their corresponding diameters. Instead of creating 9 separate list for each planet, we can store the above table inside a single list using the nested list concept.\n",
        "\n",
        "**Nested List:**\n",
        "\n",
        "*A nested list is a collection of lists inside a list, just like a gift box inside another gift box*.\n",
        "\n",
        "\n",
        "\n",
        "<img src='https://student-datasets-bucket.s3.ap-south-1.amazonaws.com/images/nested-boxes.jpg' width=400>\n",
        "\n",
        "\n",
        "**For example:**\n",
        "1. `list1=[[1,2,3],[4,5],[6,7]]` $\\Rightarrow$ Here `list1` is a nested list having `3` **inner list** or **sublist**.\n",
        "\n",
        "2. `list2=[['cat','dog'],['pigeon']]` $\\Rightarrow$ Here `list2` is a nested list having `2` sublist.\n",
        "\n",
        "3. `list3=['John', 2.0, 5, [10, 20]]` $\\Rightarrow$ Here `list3` contains a string, a float, an integer and another list\n",
        "\n",
        "\n",
        "\n",
        "Let's create a **nested list** `planet_diameters` to store the planets and their corresponding diameters in it. Since there are 9 planets, so we will create 9 sublists or inner lists and store the details of 9 planets in those 9 sublists.\n",
        "\n",
        "\n",
        "<img src=\"https://curriculum.whitehatjr.com/APT+Asset/APT+C7+images/apt-c7-09-planet-list-01.png\" height=450/>\n",
        "\n",
        "\n"
      ]
    },
    {
      "cell_type": "code",
      "metadata": {
        "id": "LgxEFIOD-26f",
        "colab": {
          "base_uri": "https://localhost:8080/"
        },
        "outputId": "034dc629-f21d-4a0b-e4a4-4fd6d0852ea4"
      },
      "source": [
        "# Teacher Action: Represent a two-dimensional data in a nested list.\n",
        "planet_diameters = [['Mercury', 4879],\n",
        "                    ['Venus', 12104],\n",
        "                    ['Earth', 12756],\n",
        "                    ['Mars', 6792],\n",
        "                    ['Jupiter', 142984],\n",
        "                    ['Saturn', 120536],\n",
        "                    ['Uranus', 51118],\n",
        "                    ['Neptune', 49528],\n",
        "                    ['Pluto', 2370]]\n",
        "planet_diameters"
      ],
      "execution_count": null,
      "outputs": [
        {
          "output_type": "execute_result",
          "data": {
            "text/plain": [
              "[['Mercury', 4879],\n",
              " ['Venus', 12104],\n",
              " ['Earth', 12756],\n",
              " ['Mars', 6792],\n",
              " ['Jupiter', 142984],\n",
              " ['Saturn', 120536],\n",
              " ['Uranus', 51118],\n",
              " ['Neptune', 49528],\n",
              " ['Pluto', 2370]]"
            ]
          },
          "metadata": {
            "tags": []
          },
          "execution_count": 1
        }
      ]
    },
    {
      "cell_type": "markdown",
      "metadata": {
        "id": "UXwVQ2QZ-3o0"
      },
      "source": [
        "\n",
        "**Note:** The indentation for a nested list is not necessary. We indent a nested list to make it more readable.\n",
        "\n",
        "\n",
        "\n",
        "Thus, we can use **nested list** to represent any two dimensional data or tables having values arranged in rows and columns.\n",
        "\n",
        "The row and column indices begin with `0`.\n",
        "\n",
        "<img src=\"https://curriculum.whitehatjr.com/APT+Asset/APT+C7+images/apt-c7-10-row-01.png\" height=400/>\n",
        "\n",
        "\n",
        "\n",
        "\n",
        "\n",
        "\n",
        "Now, refer to the table below.\n",
        "\n",
        "<img src=\"https://curriculum.whitehatjr.com/APT+Asset/APT+C7+images/apt-c7-11-density-01.png\" height=400/>\n",
        "\n",
        "\n",
        "\n",
        "\n",
        "\n",
        "Create a nested list containing 9 sublists where each sublist contains the planet details for each planet. The sublists must be separated by a comma."
      ]
    },
    {
      "cell_type": "code",
      "metadata": {
        "id": "G8ehLQ5N-6CM",
        "colab": {
          "base_uri": "https://localhost:8080/"
        },
        "outputId": "b4912784-2aaf-44c3-db38-f03b0d608d0d"
      },
      "source": [
        "# Student Action: Create a nested list to represent the two-dimensional data shown in the table above.\n",
        "planet_data = [['Mercury', 4879,5427,3.7],\n",
        "                    ['Venus', 12104,5243,8.9],\n",
        "                    ['Earth', 12756,5514,9.8],\n",
        "                    ['Mars', 6792,3933,3.7],\n",
        "                    ['Jupiter', 142984,1326,23.1],\n",
        "                    ['Saturn', 120536,687,9.0],\n",
        "                    ['Uranus', 51118,1271,8.7],\n",
        "                    ['Neptune', 49528,1638,11.0],\n",
        "                    ['Pluto', 2370,2095,0.7]]\n",
        "planet_data"
      ],
      "execution_count": null,
      "outputs": [
        {
          "output_type": "execute_result",
          "data": {
            "text/plain": [
              "[['Mercury', 4879, 5427, 3.7],\n",
              " ['Venus', 12104, 5243, 8.9],\n",
              " ['Earth', 12756, 5514, 9.8],\n",
              " ['Mars', 6792, 3933, 3.7],\n",
              " ['Jupiter', 142984, 1326, 23.1],\n",
              " ['Saturn', 120536, 687, 9.0],\n",
              " ['Uranus', 51118, 1271, 8.7],\n",
              " ['Neptune', 49528, 1638, 11.0],\n",
              " ['Pluto', 2370, 2095, 0.7]]"
            ]
          },
          "metadata": {
            "tags": []
          },
          "execution_count": 1
        }
      ]
    },
    {
      "cell_type": "markdown",
      "metadata": {
        "id": "YpLNlN4xxBfK"
      },
      "source": [
        "For all practical purposes, we can call the `planet_data` list a **two-dimensional** list because it stores a tabular format having some rows and columns."
      ]
    },
    {
      "cell_type": "markdown",
      "metadata": {
        "id": "-Q6JpUh9_uNh"
      },
      "source": [
        "---"
      ]
    },
    {
      "cell_type": "markdown",
      "metadata": {
        "id": "rt6SyGw5-80p"
      },
      "source": [
        "#### Activity 2: Indexing A Nested List^\n",
        "\n",
        "In the previous class, we learned how to access individual elements of a list.\n",
        "\n",
        "<font color=red><b>\n",
        "<img src=\"https://curriculum.whitehatjr.com/APT+Asset/APT+C7+images/recap-01.png\" height=50/>Suppose you want to access or print the **first** element of the below list:\n",
        "\n",
        "```python\n",
        "planet = ['Mercury', 4879, 3.7, False]\n",
        "```\n",
        "\n",
        "How will you do that? </font></b> <br/><a href=\"https://curriculum.whitehatjr.com/APT+Asset/APT+C7+images/index.PNG\"><img src=\"https://curriculum.whitehatjr.com/APT+Asset/Final+C2+images/download.jpg\"/> </a>\n",
        "\n",
        "---\n",
        "\n",
        "\n",
        "Consider the `planet_data` 2D list.\n",
        "\n",
        "<img src=\"https://curriculum.whitehatjr.com/APT+Asset/APT+C7+images/planet.png\" height=400/>\n",
        "\n",
        "\n",
        "Let's say you want to see only the diameter of `'Jupiter'` from the `planet_data` list. For this, you will use the list indexing method which you learnt in the previous class.\n",
        "\n",
        "**List Indexing for 2D list:**\n",
        "\n",
        "To get an item of a 1D list, we need to specify one index. Similarly, to get a specific item from a 2D list, we need to specify two indices.\n",
        "\n",
        "For this, write the list name followed by two consecutive square brackets `[][]`.\n",
        "\n",
        "- In the first square bracket, enter the row index.\n",
        "\n",
        "- In the second square bracket, enter the column index.\n",
        "\n",
        "\n",
        "**Syntax:** `list_name[row_index][col_index]`\n",
        "\n",
        "\n",
        "In `planet_data` 2D list , there are 9 rows and 4 columns, so the row indices go from `0` to `8` and the column indices go from `0` to `3`.\n",
        "\n",
        "\n",
        "\n",
        "<img src=\"https://curriculum.whitehatjr.com/APT+Asset/APT+C7+images/apt-c7-13-index-01.png\" height=400/>\n",
        "\n",
        "To retreive the diameter of Jupiter, you need to specify the **row index** and **column index** for Jupiter.\n",
        "\n",
        "\n",
        "\n",
        "<img src=\"https://curriculum.whitehatjr.com/APT+Asset/APT+C7+images/planet-jupiter-gif-c7-apt.gif\" height=400/>\n",
        "\n"
      ]
    },
    {
      "cell_type": "code",
      "metadata": {
        "id": "eG3W2xq0_AlX",
        "colab": {
          "base_uri": "https://localhost:8080/"
        },
        "outputId": "4fd97d3a-d210-4080-c47e-7d29a1f8e860"
      },
      "source": [
        "# Student Action: Retrieve the diameter of 'Jupiter' from the 'planet_data' list.\n",
        "planet_data[4][1]"
      ],
      "execution_count": null,
      "outputs": [
        {
          "output_type": "execute_result",
          "data": {
            "text/plain": [
              "142984"
            ]
          },
          "metadata": {
            "tags": []
          },
          "execution_count": 2
        }
      ]
    },
    {
      "cell_type": "code",
      "metadata": {
        "id": "TJTqwWs3_FLX",
        "colab": {
          "base_uri": "https://localhost:8080/"
        },
        "outputId": "58f980ce-4461-4fe2-86c4-2984d8e736e9"
      },
      "source": [
        "# Student Action: Retrieve the density of 'Saturn' from the 'planet_data' list.\n",
        "planet_data[5]"
      ],
      "execution_count": null,
      "outputs": [
        {
          "output_type": "execute_result",
          "data": {
            "text/plain": [
              "['Saturn', 120536, 687, 9.0]"
            ]
          },
          "metadata": {
            "tags": []
          },
          "execution_count": 4
        }
      ]
    },
    {
      "cell_type": "markdown",
      "metadata": {
        "id": "Lt2KVjuv4y8_"
      },
      "source": [
        "To get all the items of a row from a 2D list, just enter the row index of that row in the first square bracket after writing the name of the list. No need to enter the column index in this case.\n",
        "\n",
        "**Syntax:** `list_name[row_index]`\n",
        "\n",
        "\n",
        "\n",
        "<img src=\"https://curriculum.whitehatjr.com/APT+Asset/APT+C7+images/PLATER-MARS-apt-c7-gif.gif\" height=400/>\n",
        "\n",
        "Let's get all the details of `'Mars'` from the `planet_data` list."
      ]
    },
    {
      "cell_type": "code",
      "metadata": {
        "id": "Bv0dXmVU4mI1",
        "colab": {
          "base_uri": "https://localhost:8080/"
        },
        "outputId": "45f4d4d8-ea1f-4184-fad4-4acf796ea576"
      },
      "source": [
        "# Student Action: Retrieve all the details of 'Mars' using the list indexing method.\n",
        "planet_data[3]"
      ],
      "execution_count": null,
      "outputs": [
        {
          "output_type": "execute_result",
          "data": {
            "text/plain": [
              "['Mars', 6792, 3933, 3.7]"
            ]
          },
          "metadata": {
            "tags": []
          },
          "execution_count": 5
        }
      ]
    },
    {
      "cell_type": "markdown",
      "metadata": {
        "id": "Z41PMkO6twJY"
      },
      "source": [
        "---"
      ]
    },
    {
      "cell_type": "markdown",
      "metadata": {
        "id": "pvs9woietw-g"
      },
      "source": [
        "#### Activity 3: Length Of Nested Python Lists\n",
        "\n",
        "The length of a nested list is the number of sublists it contains.\n",
        "\n",
        "**For example:**\n",
        "<img src=\"https://curriculum.whitehatjr.com/APT+Asset/APT+C7+images/apt-c7-06-list-01.png\" height=400/>\n",
        "\n",
        "In the `planet_data` list, there are 9 sublists. Hence, it's length is 9. You can use the `len()` function to compute the length of a nested list.\n",
        "\n",
        "**Syntax:** `len(list_name)`"
      ]
    },
    {
      "cell_type": "code",
      "metadata": {
        "id": "VxS958TmuKM7",
        "colab": {
          "base_uri": "https://localhost:8080/"
        },
        "outputId": "9522e8c0-8d7a-4691-8193-7576c567106e"
      },
      "source": [
        "# Student Action: Find the number of sublists in the 'planet_data' list using the 'len()' function.\n",
        "len(planet_data)"
      ],
      "execution_count": null,
      "outputs": [
        {
          "output_type": "execute_result",
          "data": {
            "text/plain": [
              "9"
            ]
          },
          "metadata": {
            "tags": []
          },
          "execution_count": 6
        }
      ]
    },
    {
      "cell_type": "markdown",
      "metadata": {
        "id": "lRBY_h1YuYEm"
      },
      "source": [
        "\n",
        "**What if we need to count the total number of items in a nested list?**\n",
        "\n",
        "For this:\n",
        "- First find the length of each sublist using `len()` function.\n",
        "- Then add the length of each sublist.\n",
        "\n",
        "\n",
        "\n",
        "<img src=\"https://curriculum.whitehatjr.com/APT+Asset/apt-c7-07-total+items-01+(1).png\" height=400/>\n",
        "\n",
        "To perform these tasks, we will use a `for` loop which will iterate through every sublists.\n",
        "\n",
        "Let's create `num_items` variable with an initial value equal to `0`. Then using the `for` loop and the `len()` function, we will find the total number of items contained in each sublist in the `planet_data` list. Then we will add the length of each list to the `num_items` variable."
      ]
    },
    {
      "cell_type": "code",
      "metadata": {
        "id": "3uG5bpc6ugJG",
        "colab": {
          "base_uri": "https://localhost:8080/"
        },
        "outputId": "81c99d36-6530-4473-be4b-77a8896b6791"
      },
      "source": [
        "# Teacher Action: Find the total number of items in a nested list.\n",
        "num_items = 0\n",
        "\n",
        "for sublist in planet_data:\n",
        "  length_of_sublist = len(sublist)\n",
        "  num_items = num_items + length_of_sublist\n",
        "\n",
        "num_items"
      ],
      "execution_count": null,
      "outputs": [
        {
          "output_type": "execute_result",
          "data": {
            "text/plain": [
              "36"
            ]
          },
          "metadata": {
            "tags": []
          },
          "execution_count": 6
        }
      ]
    },
    {
      "cell_type": "markdown",
      "metadata": {
        "id": "5d9rQsdmvj3b"
      },
      "source": [
        "In the above code:\n",
        "\n",
        "- We iterate through each sublist in the `planet_data` list.\n",
        "\n",
        "- We compute the length of each sublist using the `len()` function. We store this value in a `length_of_sublist` variable which we have created inside the `for` loop.\n",
        "\n",
        "- We add the length of each sublist to the `num_items` variable using the `+` operator. Recall that this is a **right-to-left** operation in which we first update the value stored in a variable and then assign the updated value to the same variable.\n",
        "\n",
        "- Finally, we print the value stored in the `num_items` variable to get the total number of items contained in the `planet_data` list.\n",
        "\n",
        "*In general, if a two-dimensional list has $q$ rows and $r$ columns, then it will have $q \\times r$ items.*\n"
      ]
    },
    {
      "cell_type": "markdown",
      "metadata": {
        "id": "DnlxSGHc-zCk"
      },
      "source": [
        "---"
      ]
    },
    {
      "cell_type": "markdown",
      "metadata": {
        "id": "7_j0m3MB0GfD"
      },
      "source": [
        "#### Activity 4: Data Representation In Three-Dimensions Using Python Lists^^^\n",
        "\n",
        "Let's learn about three-dimensional lists in Python.\n",
        "\n",
        "*For all practical purposes, a three-dimensional list is a collection of equal-sized two-dimensional lists* where the **size** of a two-dimensional list is the number of rows and columns contained in a two-dimensional list. E.g., if there are 2 two-dimensional lists having 3 rows and 2 columns, then you can create a three-dimensional list using them.\n",
        "\n",
        "Hence, the equal-sized two-dimensional lists will always have the same number of rows and columns.\n",
        "\n",
        "**Note:** In a three-dimensional list, we can refer a two-dimensional list as a **block** for the ease of understanding.\n",
        "\n",
        "Now, let's create a three-dimensional list which contains three equal-sized two-dimensional lists. Let the size of each two-dimensional list be 3 rows and 3 columns. Let each item in the three-dimensional list indicate the position it acquires in the list.\n",
        "\n",
        "<img src='https://student-datasets-bucket.s3.ap-south-1.amazonaws.com/images/3D_array.jpg'>\n",
        "\n",
        "So each item will be of the form $ijk$, where $ijk$ indicates that the item is present in the $i^{th}$ block, $j^{th}$ row and $k^{th}$ column.\n",
        "\n",
        "\n",
        "Hence,\n",
        "\n",
        "- if $i = 1, j = 1, k = 1$, then it means the item exists in the first block, first row and first column.\n",
        "\n",
        "- if $i = 1, j = 1, k = 2$, then it means the item exists in the first block, first row and second column.\n",
        "\n",
        "- if $i = 1, j = 1, k = 3$, then it means the item exists in the first block, first row and third column.\n",
        "\n",
        "  -  \n",
        "\n",
        "  -  \n",
        "\n",
        "  -  \n",
        "\n",
        "- if $i = 3, j = 3, k = 1$, then it means the item exists in the third block, third row and first column.\n",
        "\n",
        "- if $i = 3, j = 3, k = 2$, then it means the item exists in the third block, third row and second column.\n",
        "\n",
        "- if $i = 3, j = 3, k = 3$, then it means the item exists in the third block, third row and third column."
      ]
    },
    {
      "cell_type": "code",
      "metadata": {
        "id": "sxzt8Po1VorE",
        "colab": {
          "base_uri": "https://localhost:8080/"
        },
        "outputId": "1038402d-4d0d-4f92-c031-9d15f3b82a62"
      },
      "source": [
        "# Teacher Action: Create a three-dimensional list in Python.\n",
        "three_dim_list = [\n",
        "                  [[111, 112, 113],\n",
        "                   [121, 122, 123],\n",
        "                   [131, 132, 133]],\n",
        "\n",
        "                  [[211, 212, 213],\n",
        "                   [221, 222, 223],\n",
        "                   [231, 232, 233]],\n",
        "\n",
        "                  [[311, 312, 313],\n",
        "                   [321, 322, 323],\n",
        "                   [331, 332, 333]]\n",
        "                  ]\n",
        "\n",
        "three_dim_list"
      ],
      "execution_count": null,
      "outputs": [
        {
          "output_type": "execute_result",
          "data": {
            "text/plain": [
              "[[[111, 112, 113], [121, 122, 123], [131, 132, 133]],\n",
              " [[211, 212, 213], [221, 222, 223], [231, 232, 233]],\n",
              " [[311, 312, 313], [321, 322, 323], [331, 332, 333]]]"
            ]
          },
          "metadata": {
            "tags": []
          },
          "execution_count": 8
        }
      ]
    },
    {
      "cell_type": "markdown",
      "metadata": {
        "id": "KY3BNCvi0UTh"
      },
      "source": [
        "**Note:** The indentation for a nested list is not necessary. We indent a nested list to make it more readable.\n",
        "\n",
        "\n",
        "In the above example, the number `111` means the item exists in the first block, first row and first column. Similarly, `121` means the item exists in the first block, second row and first column and so on ...\n",
        "\n",
        "We have 3 blocks where each block is a two-dimensional list. So the blocks represent the third dimension. You can compute the number of blocks contained in a three-dimensional list using the `len()` function."
      ]
    },
    {
      "cell_type": "code",
      "metadata": {
        "id": "DVaVcWNZ3EYT",
        "colab": {
          "base_uri": "https://localhost:8080/"
        },
        "outputId": "819e597b-42e7-4d17-cb6a-43793f81413e"
      },
      "source": [
        "# Student Action: Using the 'len()' function, find the number of blocks contained in the 'three_dim_list'.\n",
        "len(three_dim_list)"
      ],
      "execution_count": null,
      "outputs": [
        {
          "output_type": "execute_result",
          "data": {
            "text/plain": [
              "3"
            ]
          },
          "metadata": {
            "tags": []
          },
          "execution_count": 9
        }
      ]
    },
    {
      "cell_type": "markdown",
      "metadata": {
        "id": "GdWe36Z-25f-"
      },
      "source": [
        "You can imagine these blocks as a stack of few books in which one book lies on top of another.\n",
        "\n",
        "<img src='https://s3-whjr-v2-prod-bucket.whjr.online/9cfb99b0-d4d2-4268-a79d-378f09f39cd4.png' width=400>\n",
        "\n",
        "Surely, we can't actually draw three dimensions on a two-dimensional screen but using the example of a stack of books we can try to visualise them.\n",
        "\n",
        "We can retrieve the items from a three-dimensional list using the list indexing method.\n",
        "\n",
        "To retrieve an item from a three-dimensional list, you need to write the name of the list, followed by three square brackets. Inside the square brackets, you have to enter the block index, row index and column index in that order.\n",
        "\n",
        "**Syntax:** `list_name[block_index][row_index][col_index]`\n",
        "\n",
        "**Note:** The block, row and column indices begin from `0`.\n",
        "\n",
        "Let's try to retrieve the item `121` from `three_dim_list`."
      ]
    },
    {
      "cell_type": "code",
      "metadata": {
        "id": "e6FPCiBg7J3j",
        "colab": {
          "base_uri": "https://localhost:8080/"
        },
        "outputId": "936f77a5-4074-4916-e2d2-b8459bfa4df4"
      },
      "source": [
        "# Student Action: Retrieve 121 from 'three_dim_list' using the list indexing method.\n",
        "three_dim_list[0][1][0]"
      ],
      "execution_count": null,
      "outputs": [
        {
          "output_type": "execute_result",
          "data": {
            "text/plain": [
              "121"
            ]
          },
          "metadata": {
            "tags": []
          },
          "execution_count": 11
        }
      ]
    },
    {
      "cell_type": "code",
      "metadata": {
        "id": "fY5hYYk_53Ws",
        "colab": {
          "base_uri": "https://localhost:8080/"
        },
        "outputId": "c433864e-6181-47a1-be85-333992e207b0"
      },
      "source": [
        "# Student Action: Retrieve 232 from 'three_dim_list' using the list indexing method.\n",
        "three_dim_list[1][2][1]"
      ],
      "execution_count": null,
      "outputs": [
        {
          "output_type": "execute_result",
          "data": {
            "text/plain": [
              "232"
            ]
          },
          "metadata": {
            "tags": []
          },
          "execution_count": 12
        }
      ]
    },
    {
      "cell_type": "markdown",
      "metadata": {
        "id": "V-jwR0f6SK8V"
      },
      "source": [
        "We can retrieve all the items from a three-dimensional list using the nested `for` loop. The nested `for` loop means there are `for` loops inside a `for` loop.\n",
        "\n",
        "In this example, using the `for` loop,\n",
        "\n",
        "- first we will iterate through each block,\n",
        "\n",
        "- then within each block, we will iterate through each row,\n",
        "\n",
        "- then within each row, we will iterate through each column to get every single item from the nested list stored in the `three_dim_list` variable."
      ]
    },
    {
      "cell_type": "code",
      "metadata": {
        "id": "E_qUBN-uSks3",
        "colab": {
          "base_uri": "https://localhost:8080/"
        },
        "outputId": "fefc675c-21e7-43eb-82e8-f59b3e61a52e"
      },
      "source": [
        "# Teacher Action: Retrieve items of a multi-dimensional list using nested 'for' loop.\n",
        "for i in range(3): # Iterate through each block. There are 3 blocks.\n",
        "  for j in range(3): # Iterate through each row. There are 3 rows.\n",
        "    for k in range(3): # Iterate through each column. There are 3 columns.\n",
        "      print(three_dim_list[i][j][k], end=' ')\n",
        "    print()\n",
        "  print()"
      ],
      "execution_count": null,
      "outputs": [
        {
          "output_type": "stream",
          "text": [
            "111 112 113 \n",
            "121 122 123 \n",
            "131 132 133 \n",
            "\n",
            "211 212 213 \n",
            "221 222 223 \n",
            "231 232 233 \n",
            "\n",
            "311 312 313 \n",
            "321 322 323 \n",
            "331 332 333 \n",
            "\n"
          ],
          "name": "stdout"
        }
      ]
    },
    {
      "cell_type": "markdown",
      "metadata": {
        "id": "vVXF--C8XWfn"
      },
      "source": [
        "Here, `i` goes from `0` to `2`, `j` goes from `0` to `2` and `k` also goes from `0` to `2`.\n",
        "\n",
        "Hence,\n",
        "\n",
        "- first, for `i = 0` and `j = 0`, `k` will go from `0` to `2`.\n",
        "\n",
        "- then, for `i = 0` and `j = 1`, again `k` will go from `0` to `2`.\n",
        "\n",
        "- then, for `i = 0` and `j = 2`, again `k` will go from `0` to `2`.\n",
        "\n",
        "- then, for `i = 1` and `j = 0`, again `k` will go from `0` to `2`.\n",
        "\n",
        "- then, for `i = 1` and `j = 1`, again `k` will go from `0` to `2`.\n",
        "\n",
        "- then, for `i = 1` and `j = 2`, again `k` will go from `0` to `2`.\n",
        "\n",
        "- then, for `i = 2` and `j = 0`, again `k` will go from `0` to `2`.\n",
        "\n",
        "- then, for `i = 2` and `j = 1`, again `k` will go from `0` to `2`.\n",
        "\n",
        "- then, for `i = 2` and `j = 2`, again `k` will go from `0` to `2`.\n",
        "\n",
        "So, all-in-all, there will be 27 iterations. In the above code,\n",
        "\n",
        "- the `end=' '` parameter in the first `print()` function, provides a space between two consecutive items in a row.\n",
        "\n",
        "- the second `print()` function prints a new line after each row.\n",
        "\n",
        "- the third `print()` function prints an empty newline after each block.\n",
        "\n",
        "*In general, if a three-dimensional list has $p$ blocks, $q$ rows and $r$ columns, then it will have $p \\times q \\times r$ items.*\n",
        "\n",
        "Now, you try to iterate through each item in the `three_dim_list` using the `for` loop but without using the `range()` function."
      ]
    },
    {
      "cell_type": "code",
      "metadata": {
        "id": "qs-vfeIizdzv",
        "colab": {
          "base_uri": "https://localhost:8080/"
        },
        "outputId": "33a7e19a-e9cb-4e47-9bdf-e2f6090e1ea8"
      },
      "source": [
        "# Student Action: Iterate through each item in the 'three_dim_list' using the 'for' loop without using the 'range()' function.\n",
        "for block in three_dim_list:\n",
        "  for row in block:\n",
        "    for item in row:\n",
        "      print(item, end=' ')\n",
        "    print()\n",
        "  print()"
      ],
      "execution_count": null,
      "outputs": [
        {
          "output_type": "stream",
          "text": [
            "111 112 113 \n",
            "121 122 123 \n",
            "131 132 133 \n",
            "\n",
            "211 212 213 \n",
            "221 222 223 \n",
            "231 232 233 \n",
            "\n",
            "311 312 313 \n",
            "321 322 323 \n",
            "331 332 333 \n",
            "\n"
          ],
          "name": "stdout"
        }
      ]
    },
    {
      "cell_type": "markdown",
      "metadata": {
        "id": "aQvSsgUwOnIK"
      },
      "source": [
        "In the above code,\n",
        "\n",
        "- the `block` variable goes through the first block\n",
        "\n",
        "    ```\n",
        "    111 112 113\n",
        "    121 122 123\n",
        "    131 132 133\n",
        "    ```\n",
        "\n",
        "  to the third block\n",
        "\n",
        "    ```\n",
        "    311 312 313\n",
        "    321 322 323\n",
        "    331 332 333\n",
        "    ```\n",
        "\n",
        "  in the `three_dim_list`.\n",
        "\n",
        "- the `row` variable goes through each row in each block.\n",
        "\n",
        "- the `item` variable goes through each item in each row in each block.\n",
        "\n",
        "- the `end=' '` parameter in the first `print()` function, provides a space between two consecutive items in a row.\n",
        "\n",
        "- the second `print()` function prints a new line after each row.\n",
        "\n",
        "- the third `print()` function prints an empty newline after each block.\n",
        "\n",
        "\n",
        "You can also use the `for` loop to find the number of items in a three-dimensional list as we did in case of the two-dimensional list. To find the number of items in the `three_dim_list`, using the `for` loop:\n",
        "\n",
        "- First, create a variable, say `num_items`, with an initial value equal to `0`.\n",
        "\n",
        "- Then iterate through each block.\n",
        "\n",
        "- Then within each block, iterate through each row.\n",
        "\n",
        "- Then find the number of items in each row using the `len()` function and add the result to the `num_items` variable.\n",
        "\n",
        "The output should be `27` because there are `27` items in the `three_dim_list`."
      ]
    },
    {
      "cell_type": "code",
      "metadata": {
        "id": "HteQVNqsoltL",
        "colab": {
          "base_uri": "https://localhost:8080/"
        },
        "outputId": "991307f6-01e0-45b6-f562-0dc09073b195"
      },
      "source": [
        "# Student Action: Using the 'for', find the number of items in the 'three_dim_list'.\n",
        "num_items=0\n",
        "for block in three_dim_list:\n",
        "  for row in block:\n",
        "    num_items=num_items+len(row)\n",
        "print(num_items)"
      ],
      "execution_count": null,
      "outputs": [
        {
          "output_type": "stream",
          "text": [
            "27\n"
          ],
          "name": "stdout"
        }
      ]
    },
    {
      "cell_type": "markdown",
      "metadata": {
        "id": "_bJ_zgrWipaK"
      },
      "source": [
        "This is where we will stop today. We have covered some important topics related to lists in this class.\n",
        "\n",
        "In the next class, we will learn list comprehensions."
      ]
    },
    {
      "cell_type": "markdown",
      "metadata": {
        "id": "SwrzH2vNIabl"
      },
      "source": [
        "---"
      ]
    },
    {
      "cell_type": "markdown",
      "metadata": {
        "id": "1KZao1Yk73pp"
      },
      "source": [
        "### Wrap-Up Quiz\n",
        "\n",
        "<img src=\"https://curriculum.whitehatjr.com/APT+Asset/APT+C7+images/q1.PNG\"/>\n",
        "\n",
        "---\n",
        "\n",
        "\n",
        "\n",
        "<img src=\"https://curriculum.whitehatjr.com/APT+Asset/APT+C7+images/q2.PNG\"/>\n",
        "\n",
        "\n"
      ]
    },
    {
      "cell_type": "markdown",
      "metadata": {
        "id": "szhA5G9E8FCn"
      },
      "source": [
        "---"
      ]
    }
  ]
}