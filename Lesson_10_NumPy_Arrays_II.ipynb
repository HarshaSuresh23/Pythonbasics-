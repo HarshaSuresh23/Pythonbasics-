{
  "nbformat": 4,
  "nbformat_minor": 0,
  "metadata": {
    "colab": {
      "provenance": [],
      "include_colab_link": true
    },
    "kernelspec": {
      "name": "python3",
      "display_name": "Python 3"
    }
  },
  "cells": [
    {
      "cell_type": "markdown",
      "metadata": {
        "id": "view-in-github",
        "colab_type": "text"
      },
      "source": [
        "<a href=\"https://colab.research.google.com/github/HarshaSuresh23/Pythonbasics-/blob/main/Lesson_10_NumPy_Arrays_II.ipynb\" target=\"_parent\"><img src=\"https://colab.research.google.com/assets/colab-badge.svg\" alt=\"Open In Colab\"/></a>"
      ]
    },
    {
      "cell_type": "markdown",
      "metadata": {
        "id": "7LlG_PPFjJUz"
      },
      "source": [
        "# Lesson 10: NumPy Arrays II\n"
      ]
    },
    {
      "cell_type": "markdown",
      "metadata": {
        "id": "3rJJF2_hNmmS"
      },
      "source": [
        "### Teacher-Student Activities\n",
        "\n",
        "In the previous lesson, we learnt how to create a NumPy array using different functions. In this lesson, we are going to learn a few of the mathematical operations that can be done on a NumPy array.\n",
        "\n",
        "At the end of the class, we will compare the performance of a NumPy array with a Python list."
      ]
    },
    {
      "cell_type": "markdown",
      "metadata": {
        "id": "IFaexN7T8zWE"
      },
      "source": [
        "---"
      ]
    },
    {
      "cell_type": "markdown",
      "metadata": {
        "id": "8C6arOgwIdZR"
      },
      "source": [
        "#### Activity 1: Array Length\n",
        "\n",
        "Let's begin the lesson with array length. The length of an array (or array length) is:\n",
        "\n",
        "- The number of items in a one-dimensional array.\n",
        "\n",
        "- The number of rows in a two-dimensional array.\n",
        "\n",
        "- The number of blocks in a three-dimensional array.\n",
        "\n",
        "To calculate the length of a NumPy array, you can use the `len()` function.\n",
        "\n",
        "Let's create an array for all the three different dimensions and calculate their lengths using the `len()` function.\n",
        "\n",
        "\n"
      ]
    },
    {
      "cell_type": "code",
      "metadata": {
        "id": "vlgvfn4lhd2L",
        "colab": {
          "base_uri": "https://localhost:8080/"
        },
        "outputId": "21513b63-def5-4b3f-ad4a-3a3048010cdc"
      },
      "source": [
        "# Teacher Action: Create a NumPy array for all the three different dimensions and calculate their lengths.\n",
        "import numpy as np\n",
        "\n",
        "one_dim_ar = np.arange(1, 25) # Creates a one-dimensional NumPy array having 24 items.\n",
        "two_dim_ar = np.arange(1, 29).reshape(4, 7) # Creates a two-dimensional NumPy array having 4 rows and 7 columns. No. of items = 28\n",
        "three_dim_ar = np.arange(1, 31).reshape(2, 5, 3) # Creates a three-dimensional array having 2 blocks, 5 rows and 3 columns. No. of items = 30\n",
        "print(\"Number of items in one_dim_ar:\", len(one_dim_ar))\n",
        "print(\"Number of rows in two_dim_ar:\", len(two_dim_ar))\n",
        "print(\"Number of blocks in three_dim_ar:\", len(three_dim_ar))"
      ],
      "execution_count": null,
      "outputs": [
        {
          "output_type": "stream",
          "text": [
            "Number of items in one_dim_ar: 24\n",
            "Number of rows in two_dim_ar: 4\n",
            "Number of blocks in three_dim_ar: 2\n"
          ],
          "name": "stdout"
        }
      ]
    },
    {
      "cell_type": "markdown",
      "metadata": {
        "id": "5DCa_G49YKsh"
      },
      "source": [
        "**Note:** You do not have to create the arrays with the exact same items. You can choose to have different items in the arrays.\n",
        "\n",
        "As you can see, the `len()` function gives different outputs for multi-dimensional NumPy arrays."
      ]
    },
    {
      "cell_type": "markdown",
      "metadata": {
        "id": "YzE3GMSkW-Nx"
      },
      "source": [
        "---"
      ]
    },
    {
      "cell_type": "markdown",
      "metadata": {
        "id": "rCnmusCAc6gI"
      },
      "source": [
        "#### Activity 2: The `size` Keyword\n",
        "\n",
        "To find the number of items in a NumPy array, you can use the `size` keyword. Regardless of dimensions, the `size` keyword will always return the number of items in a NumPy array."
      ]
    },
    {
      "cell_type": "code",
      "metadata": {
        "id": "AXL0BiNXc7iK",
        "colab": {
          "base_uri": "https://localhost:8080/"
        },
        "outputId": "fd672698-4822-436e-c081-6f86595ccc74"
      },
      "source": [
        "# Student Action: Compute the number of items in the 'one_dim_ar', 'two_dim_ar' and 'three_dim_ar' NumPy arrays.\n",
        "print(\"the size of one dimensional array is:\",one_dim_ar.size)\n",
        "print(\"the size of two dimensional array is:\",two_dim_ar.size)\n",
        "print(\"the size of three dimensional array is:\",three_dim_ar.size)"
      ],
      "execution_count": null,
      "outputs": [
        {
          "output_type": "stream",
          "text": [
            "the size of one dimensional array is: 24\n",
            "the size of two dimensional array is: 28\n",
            "the size of three dimensional array is: 30\n"
          ],
          "name": "stdout"
        }
      ]
    },
    {
      "cell_type": "markdown",
      "metadata": {
        "id": "vL9yDI_laAVX"
      },
      "source": [
        "**Note:** The `size` keyword is not available for a Python list."
      ]
    },
    {
      "cell_type": "markdown",
      "metadata": {
        "id": "EDbcN7r-Z83a"
      },
      "source": [
        "---"
      ]
    },
    {
      "cell_type": "markdown",
      "metadata": {
        "id": "qkZj_ZVTiHz9"
      },
      "source": [
        "#### Activity 3: Descriptive Statistics\n",
        "\n",
        "Using NumPy arrays, we can easily do some statistical calculations.\n",
        "\n",
        "Consider that you are a smartphone retailer and you have few smartphones in your inventory.\n",
        "\n",
        "|Smartphone Model|Price (INR)|# Units Available|\n",
        "|-|-|-|\n",
        "|Samsung Galaxy M30S|\t13999|\t9|\n",
        "Realme C2| 6298| 8|\n",
        "Xiaomi Redmi Note 7 Pro| 10999| 9|\n",
        "Xiaomi Redmi Note 8 Pro| 14999| 9|\n",
        "Realme C2 32GB| 7298| 8|\n",
        "Realme C2 2GB RAM| 6385| 8|\n",
        "Realme 5| 8999| 9|\n",
        "Xiaomi Redmi Note 7S 64GB| 9999| 6|\n",
        "Xiaomi Redmi Note 8| 9999| 5|\n",
        "Vivo Z1 Pro| 13868| 7|\n",
        "\n",
        "Suppose you decided to do some analysis of your inventory. In the process, you want to find answers to the following questions:\n",
        "\n",
        "1. What is the total monetary value of the inventory?\n",
        "\n",
        "2. What is the average (or mean) price of a smartphone ?\n",
        "\n",
        "3. What is the price of the cheapest smartphone in the inventory?\n",
        "\n",
        "4. What is the price of the most expensive smartphone in the inventory?\n",
        "\n",
        "5. What is the median price of a smartphone?\n",
        "\n",
        "6. What is the most commonly occurring price of a smartphone?\n",
        "\n",
        "You can answer all these questions in a few seconds by creating NumPy arrays and by applying the `sum(), mean(), median(), min()` and `max()` functions.\n",
        "\n",
        "**Note**: A median value is the middle value in an array when the values are arranged in an increasing order. Consider the five numbers `6, 1 , 5, 32,` and `13`.\n",
        "\n",
        "**How to find the median value?**\n",
        "\n",
        "To find the median value, follow two steps:\n",
        "\n",
        "1. First, arrange all the numbers in the increasing order, i.e., `1, 5, 6, 13, 32`.\n",
        "\n",
        "2. Look for the middle value which in this case is `6`. So, the required median value is `6`.\n",
        "\n",
        "In general, let $n$ be the number of numbers in a set.\n",
        "\n",
        "1. If $n$ is odd, the median value lies at the\n",
        "$\\left(\\frac{n + 1}{2}\\right)^{th}$\n",
        "position after arranging the numbers in the ascending order.\n",
        "\n",
        "2. If $n$ is even, the median value is the mean (or average) of the values at the\n",
        "$\\left(\\frac{n}{2}\\right)^{th}$\n",
        "and\n",
        "$\\left(\\frac{n}{2} + 1\\right)^{th}$\n",
        "positions.\n",
        "\n",
        "Let's say we want to find the median of the numbers `34, 12, 8, 7, 21, 19`.\n",
        "\n",
        "1. First, arrange the numbers in increasing order, i.e., `7, 8, 12, 19, 21, 24`.\n",
        "\n",
        "2. There are 6 numbers, so the middle values are `12` and `19`. Their mean (or average) is\n",
        "$\\frac{12+19}{2}$\n",
        "`= 15.5`.\n",
        "So, the required median value is `15.5`\n",
        "\n",
        "Let's first create a NumPy array for the phone data given above, then find the answers to these questions one-by-one.\n"
      ]
    },
    {
      "cell_type": "code",
      "metadata": {
        "id": "t8FrljUgoUTQ"
      },
      "source": [
        "# Student Action: Create two NumPy arrays: one for the smartphone prices and another for the number of units available.\n",
        "import numpy as np\n",
        "prices=np.array([1399,6928,10999,14999,7298,6385,8999,9999,9999,13868])\n",
        "units_available=np.array([9,8,9,9,8,8,9,6,5,7])\n"
      ],
      "execution_count": null,
      "outputs": []
    },
    {
      "cell_type": "markdown",
      "metadata": {
        "id": "ljuEdRWDp41V"
      },
      "source": [
        "Now, let's answer the first question. To find the total monetary value of the inventory, you have to multiply each smartphone price with its corresponding number of units available and then add all the products of the multiplications.\n",
        "\n",
        "Let the total monetary value be\n",
        "$M$\n",
        ", price of a smartphone be\n",
        "$p$\n",
        ", the number of units available be $u$ and the varieties of smartphones be\n",
        "$n$\n",
        ". Then\n",
        "$M = p_1 \\times u_1 + p_2 \\times u_2 + p_3 \\times u_3 + \\dots + p_n \\times u_n$\n",
        "\n",
        "Therefore, we have to multiply the `prices` array values with the `units_available` array values to get a new array containing total prices for each smartphone. Then using the `sum()` function, we will add all the values of the new array."
      ]
    },
    {
      "cell_type": "code",
      "metadata": {
        "id": "Wwjrkh75pDQZ",
        "colab": {
          "base_uri": "https://localhost:8080/"
        },
        "outputId": "09ea118e-6918-4777-9104-94e5ef384ce6"
      },
      "source": [
        "# Teacher Action: Compute the total monetary value of the inventory.\n",
        "\n",
        "# Create an array containing total price for each smartphone.\n",
        "total_price_for_each_smartphone = prices * units_available\n",
        "print(total_price_for_each_smartphone)\n",
        "\n",
        "# Calculate the total monetary value.\n",
        "total_monetary_value = np.sum(total_price_for_each_smartphone)\n",
        "total_monetary_value"
      ],
      "execution_count": null,
      "outputs": [
        {
          "output_type": "stream",
          "text": [
            "[ 12591  55424  98991 134991  58384  51080  80991  59994  49995  97076]\n"
          ],
          "name": "stdout"
        },
        {
          "output_type": "execute_result",
          "data": {
            "text/plain": [
              "699517"
            ]
          },
          "metadata": {
            "tags": []
          },
          "execution_count": 13
        }
      ]
    },
    {
      "cell_type": "markdown",
      "metadata": {
        "id": "1PF75230rVO_"
      },
      "source": [
        "**Note:** We cannot add, subtract, multiply and divide two Python lists like NumPy arrays.\n",
        "\n",
        "Now, using the `mean()` function, compute the average price of a smartphone."
      ]
    },
    {
      "cell_type": "code",
      "metadata": {
        "id": "HOVg5kWlsLyO",
        "colab": {
          "base_uri": "https://localhost:8080/"
        },
        "outputId": "af61dec5-8bbb-4015-d53e-e251b6ceeddc"
      },
      "source": [
        "# Student Action: Compute the average price of a smartphone.\n",
        "x=np.mean(prices)\n",
        "print(x)"
      ],
      "execution_count": null,
      "outputs": [
        {
          "output_type": "stream",
          "text": [
            "9087.3\n"
          ],
          "name": "stdout"
        }
      ]
    },
    {
      "cell_type": "markdown",
      "metadata": {
        "id": "RKjJufyVsYU2"
      },
      "source": [
        "Now, using the `min()` function, compute the price of the cheapest smartphone."
      ]
    },
    {
      "cell_type": "code",
      "metadata": {
        "id": "5Owx2KmysuPk",
        "colab": {
          "base_uri": "https://localhost:8080/"
        },
        "outputId": "9e0be579-c061-4a60-8fef-935a8a7ce764"
      },
      "source": [
        "# Student Action: Using the 'min()' function, compute the lowest price of a smartphone.\n",
        "y=np.min(prices)\n",
        "y"
      ],
      "execution_count": null,
      "outputs": [
        {
          "output_type": "execute_result",
          "data": {
            "text/plain": [
              "1399"
            ]
          },
          "metadata": {
            "tags": []
          },
          "execution_count": 16
        }
      ]
    },
    {
      "cell_type": "markdown",
      "metadata": {
        "id": "dTC1iDGvs5sc"
      },
      "source": [
        "Now, using the `max()` function, compute the price of the expensive smartphone."
      ]
    },
    {
      "cell_type": "code",
      "metadata": {
        "id": "XK4SfK97tCSa",
        "colab": {
          "base_uri": "https://localhost:8080/"
        },
        "outputId": "1e5abaaa-66f9-4531-850c-ad553ae8350b"
      },
      "source": [
        "# Student Action: Using the 'max()' function, compute the highest price of a smartphone.\n",
        "z=np.max(prices)\n",
        "z"
      ],
      "execution_count": null,
      "outputs": [
        {
          "output_type": "execute_result",
          "data": {
            "text/plain": [
              "14999"
            ]
          },
          "metadata": {
            "tags": []
          },
          "execution_count": 17
        }
      ]
    },
    {
      "cell_type": "markdown",
      "metadata": {
        "id": "O6PyAgR4tK0P"
      },
      "source": [
        "Now, using the `median()` function, compute the median price of a smartphone."
      ]
    },
    {
      "cell_type": "code",
      "metadata": {
        "id": "q-7oX4kOtSSe",
        "colab": {
          "base_uri": "https://localhost:8080/"
        },
        "outputId": "05f1219d-7ece-498e-d857-e94b8ce1bb45"
      },
      "source": [
        "# Student Action: Using the 'median()' function, compute the median price of a smartphone.\n",
        "c=np.median(prices)\n",
        "c"
      ],
      "execution_count": null,
      "outputs": [
        {
          "output_type": "execute_result",
          "data": {
            "text/plain": [
              "9499.0"
            ]
          },
          "metadata": {
            "tags": []
          },
          "execution_count": 18
        }
      ]
    },
    {
      "cell_type": "markdown",
      "metadata": {
        "id": "d64CX_uctqpC"
      },
      "source": [
        "Now, let's compute the most commonly occurring price of a smartphone. If you look at the dataset, the most commonly occurring price is `9999` because it occurs twice. Rest of the prices occur only once.\n",
        "\n",
        "The value which occurs the most number of times is called the **modal** value or simply **mode**.\n",
        "\n",
        "Unfortunately, the `numpy` module does not have a function to calculate the modal value. So, either we can create our own function which is a very complicated process or we can use the `mode()` function from the `scipy` library.\n",
        "\n",
        "For the time being we will choose the second option. At the end of the class we will create our own version of the `mode()` function.\n",
        "\n",
        "In the `scipy` library, there is a module called `stats` which contains the `mode()` function. So we have to import the `stats` module from the `scipy` library."
      ]
    },
    {
      "cell_type": "code",
      "metadata": {
        "id": "YwAgYtduxJXq",
        "colab": {
          "base_uri": "https://localhost:8080/"
        },
        "outputId": "b9743310-063f-4364-a55d-41332667b887"
      },
      "source": [
        "# Teacher Action: Compute the modal value using the 'mode()' function from the 'scipy.stats' module.\n",
        "from scipy import stats\n",
        "stats.mode(prices)"
      ],
      "execution_count": null,
      "outputs": [
        {
          "output_type": "execute_result",
          "data": {
            "text/plain": [
              "ModeResult(mode=array([9999]), count=array([2]))"
            ]
          },
          "metadata": {
            "tags": []
          },
          "execution_count": 19
        }
      ]
    },
    {
      "cell_type": "markdown",
      "metadata": {
        "id": "5qUdoLwT0uxW"
      },
      "source": [
        "In the output, you can see that `9999` is the modal value and it occurs twice in the `prices` array.\n",
        "\n",
        "**Note:** `from library_name import module_name` is another way of importing a module. It is also a standard practice."
      ]
    },
    {
      "cell_type": "markdown",
      "metadata": {
        "id": "2doxkX1qyC9S"
      },
      "source": [
        "---"
      ]
    },
    {
      "cell_type": "markdown",
      "metadata": {
        "id": "wtaOw65FDEGk"
      },
      "source": [
        "#### Activity 4: Few More Operations On A NumPy Array^^\n",
        "\n",
        "Performing mathematical operations on a NumPy array is easier compared to a Python list.\n",
        "\n",
        "Let's say you have a NumPy array with radii of 20 circles and want to compute the area of every circle. Then you can simply use the double-asterisk (`**`) operator on the NumPy array to square the values. Then multiply the NumPy array with `pi`.\n",
        "\n",
        "**Note:** Area of a circle with the radius\n",
        "$r$\n",
        "is\n",
        "$\\pi r^{2}$."
      ]
    },
    {
      "cell_type": "code",
      "metadata": {
        "id": "vxc4TQw2DyBP",
        "colab": {
          "base_uri": "https://localhost:8080/"
        },
        "outputId": "3c453acd-0152-4e54-b9e7-2155dcedc04f"
      },
      "source": [
        "# Teacher Action: Square the values in a numpy array.\n",
        "import random\n",
        "import numpy as np\n",
        "\n",
        "# 1. First create a Python list having radii of 20 circles where each radii is a random number from 1 to 10.\n",
        "radii = [random.randint(1, 10) for i in range(20)]\n",
        "print(radii)\n",
        "\n",
        "# 2. Convert the list into a NumPy array using the 'array()' function.\n",
        "np_radii = np.array(radii)\n",
        "print(np_radii)\n",
        "\n",
        "# 3. Square the elements of NumPy array using the exponent (**) operator. Use can use the 'np.pi' keyword to get the value of 'pi'.\n",
        "np_area_circles = np.pi * (np_radii ** 2)\n",
        "np_area_circles"
      ],
      "execution_count": null,
      "outputs": [
        {
          "output_type": "stream",
          "text": [
            "[7, 3, 1, 9, 1, 9, 4, 1, 2, 5, 7, 9, 8, 8, 1, 1, 2, 3, 5, 8]\n",
            "[7 3 1 9 1 9 4 1 2 5 7 9 8 8 1 1 2 3 5 8]\n"
          ],
          "name": "stdout"
        },
        {
          "output_type": "execute_result",
          "data": {
            "text/plain": [
              "array([153.93804003,  28.27433388,   3.14159265, 254.46900494,\n",
              "         3.14159265, 254.46900494,  50.26548246,   3.14159265,\n",
              "        12.56637061,  78.53981634, 153.93804003, 254.46900494,\n",
              "       201.06192983, 201.06192983,   3.14159265,   3.14159265,\n",
              "        12.56637061,  28.27433388,  78.53981634, 201.06192983])"
            ]
          },
          "metadata": {
            "tags": []
          },
          "execution_count": 20
        }
      ]
    },
    {
      "cell_type": "markdown",
      "metadata": {
        "id": "TrpQfzfkFd4N"
      },
      "source": [
        "Notice that when you print the values of a NumPy array (in this case `np_radii`) using the `print()` function, the items of the NumPy array are not separated by comma in the output. For all practical purposes, this is just a different behaviour of a NumPy array. Do not worry about it.\n",
        "\n",
        "If you try to square the radii values stored in a Python list using the same process, then Python will throw the `TypeError` error."
      ]
    },
    {
      "cell_type": "code",
      "metadata": {
        "id": "ooklQ4d-Fk4b",
        "colab": {
          "base_uri": "https://localhost:8080/",
          "height": 183
        },
        "outputId": "9d895d8e-832c-4b96-bd01-8d5c9f6a1e73"
      },
      "source": [
        "# Teacher Action: Directly apply the exponent (**) operator on a Python list.\n",
        "radii ** 2"
      ],
      "execution_count": null,
      "outputs": [
        {
          "output_type": "error",
          "ename": "TypeError",
          "evalue": "ignored",
          "traceback": [
            "\u001b[0;31m---------------------------------------------------------------------------\u001b[0m",
            "\u001b[0;31mTypeError\u001b[0m                                 Traceback (most recent call last)",
            "\u001b[0;32m<ipython-input-21-627f2ba75da8>\u001b[0m in \u001b[0;36m<module>\u001b[0;34m()\u001b[0m\n\u001b[1;32m      1\u001b[0m \u001b[0;31m# Teacher Action: Directly apply the exponent (**) operator on a Python list.\u001b[0m\u001b[0;34m\u001b[0m\u001b[0;34m\u001b[0m\u001b[0;34m\u001b[0m\u001b[0m\n\u001b[0;32m----> 2\u001b[0;31m \u001b[0mradii\u001b[0m \u001b[0;34m**\u001b[0m \u001b[0;36m2\u001b[0m\u001b[0;34m\u001b[0m\u001b[0;34m\u001b[0m\u001b[0m\n\u001b[0m",
            "\u001b[0;31mTypeError\u001b[0m: unsupported operand type(s) for ** or pow(): 'list' and 'int'"
          ]
        }
      ]
    },
    {
      "cell_type": "markdown",
      "metadata": {
        "id": "oorQuIB_wbFp"
      },
      "source": [
        "Even if you simply multiply a list containing numeric values with a floating-point number, then also Python will throw the `TypeError` error"
      ]
    },
    {
      "cell_type": "code",
      "metadata": {
        "id": "unq5Iqlbv94k",
        "colab": {
          "base_uri": "https://localhost:8080/",
          "height": 183
        },
        "outputId": "be42aa70-14d3-4564-ca57-1c68d37f1e7e"
      },
      "source": [
        "# Teacher Action: Directly multiply a Python list with a number.\n",
        "3.14 * radii"
      ],
      "execution_count": null,
      "outputs": [
        {
          "output_type": "error",
          "ename": "TypeError",
          "evalue": "ignored",
          "traceback": [
            "\u001b[0;31m---------------------------------------------------------------------------\u001b[0m",
            "\u001b[0;31mTypeError\u001b[0m                                 Traceback (most recent call last)",
            "\u001b[0;32m<ipython-input-22-f69a895d5f8c>\u001b[0m in \u001b[0;36m<module>\u001b[0;34m()\u001b[0m\n\u001b[1;32m      1\u001b[0m \u001b[0;31m# Teacher Action: Directly multiply a Python list with a number.\u001b[0m\u001b[0;34m\u001b[0m\u001b[0;34m\u001b[0m\u001b[0;34m\u001b[0m\u001b[0m\n\u001b[0;32m----> 2\u001b[0;31m \u001b[0;36m3.14\u001b[0m \u001b[0;34m*\u001b[0m \u001b[0mradii\u001b[0m\u001b[0;34m\u001b[0m\u001b[0;34m\u001b[0m\u001b[0m\n\u001b[0m",
            "\u001b[0;31mTypeError\u001b[0m: can't multiply sequence by non-int of type 'float'"
          ]
        }
      ]
    },
    {
      "cell_type": "markdown",
      "metadata": {
        "id": "-TcTxsAKFpOb"
      },
      "source": [
        "To find the area of the circles whose radii are stored in a Python list, you will have to use a loop."
      ]
    },
    {
      "cell_type": "code",
      "metadata": {
        "id": "xAZOdQ-AF1Mt",
        "colab": {
          "base_uri": "https://localhost:8080/"
        },
        "outputId": "592f79ab-88d6-463e-ebad-517c58ee3f09"
      },
      "source": [
        "# Teacher Action: Square all the items in a Python list.\n",
        "for radius in radii:\n",
        "  print(np.pi * (radius ** 2))"
      ],
      "execution_count": null,
      "outputs": [
        {
          "output_type": "stream",
          "text": [
            "153.93804002589985\n",
            "28.274333882308138\n",
            "3.141592653589793\n",
            "254.46900494077323\n",
            "3.141592653589793\n",
            "254.46900494077323\n",
            "50.26548245743669\n",
            "3.141592653589793\n",
            "12.566370614359172\n",
            "78.53981633974483\n",
            "153.93804002589985\n",
            "254.46900494077323\n",
            "201.06192982974676\n",
            "201.06192982974676\n",
            "3.141592653589793\n",
            "3.141592653589793\n",
            "12.566370614359172\n",
            "28.274333882308138\n",
            "78.53981633974483\n",
            "201.06192982974676\n"
          ],
          "name": "stdout"
        }
      ]
    },
    {
      "cell_type": "markdown",
      "metadata": {
        "id": "5aXQrRkz6K0r"
      },
      "source": [
        "Now, using the same approach, you create two NumPy arrays: one having radii (numbers from `1` to `10`) of `10` cylinders and another having their corresponding heights (numbers from `11` to `20`).\n",
        "\n",
        "**Note:** The volume of a cylinder is\n",
        "$\\pi r^{2}h$\n",
        ", where\n",
        "$h$\n",
        "is height of the cylinder and\n",
        "$r$\n",
        "is the radius of the cylinder."
      ]
    },
    {
      "cell_type": "code",
      "metadata": {
        "id": "VegrJMaAhoJv",
        "colab": {
          "base_uri": "https://localhost:8080/"
        },
        "outputId": "8552fd19-c551-4783-a2ff-c0b96cc3eac5"
      },
      "source": [
        "# Student Action: Create two NumPy arrays. One having a radii of 10 cylinders and another having their corresponding heights.\n",
        "# Compute the volume of the 10 cylinders by multiplying the NumPy arrays and store the new NumPy array in the new variable.\n",
        "import numpy as np\n",
        "radii=np.arange(1,11)\n",
        "heights=np.arange(11,21)\n",
        "volume=np.pi*(radii**2)*heights\n",
        "print(volume)\n"
      ],
      "execution_count": null,
      "outputs": [
        {
          "output_type": "stream",
          "text": [
            "[  34.55751919  150.79644737  367.56634047  703.7167544  1178.0972451\n",
            " 1809.55736847 2616.94668044 3619.11473694 4834.91109387 6283.18530718]\n"
          ],
          "name": "stdout"
        }
      ]
    },
    {
      "cell_type": "markdown",
      "metadata": {
        "id": "XwOCb3OTBxYD"
      },
      "source": [
        "So, here we got an array containing the volumes of the corresponding cylinders."
      ]
    },
    {
      "cell_type": "markdown",
      "metadata": {
        "id": "o0_iHJJ96hGL"
      },
      "source": [
        "---"
      ]
    },
    {
      "cell_type": "markdown",
      "metadata": {
        "id": "Qoc4ydT3yEDx"
      },
      "source": [
        "#### Activity 5: Python List And NumPy Array Performance Comparison^\n",
        "\n",
        "As we discussed earlier, the execution time for a NumPy array is lesser as compared to a Python list. The difference is most significant when the sizes of lists and arrays are in thousands and above.\n",
        "\n",
        "Let's first create a Python list and a NumPy array both having 100 thousand (or 1 lakh) items. Then let's compute how much time (in seconds) is taken to create the list and the array."
      ]
    },
    {
      "cell_type": "code",
      "metadata": {
        "id": "MqWJKrzoyB8q",
        "colab": {
          "base_uri": "https://localhost:8080/"
        },
        "outputId": "62de8915-c5c5-4184-f7c3-106bbb261bfa"
      },
      "source": [
        "# Student Action: Run the code shown below to see that NumPy arrays are faster than Python lists.\n",
        "# 1. Import the 'numpy' and 'time' modules\n",
        "import numpy as np\n",
        "import time\n",
        "t_0=time.time()\n",
        "my_list=[ i for i in range (1,100001)]\n",
        "t_1=time.time()\n",
        "time_diff = (t_1 - t_0)\n",
        "print(\"time taken to create a python list is :\",time_diff,\"seconds\")\n",
        "T_0=time.time()\n",
        "array_1=np.arange(1,100001)\n",
        "T_1=time.time()\n",
        "Time_Diff = (T_1 - T_0)\n",
        "print(\"time taken to create an array is:\",Time_Diff,\"seconds\")\n",
        "print(\"a numpy array is:\",time_diff//Time_Diff,\"times faster then a python list for a same size\")"
      ],
      "execution_count": null,
      "outputs": [
        {
          "output_type": "stream",
          "text": [
            "time taken to create a python list is : 0.008270740509033203 seconds\n",
            "time taken to create an array is: 0.00022602081298828125 seconds\n",
            "a numpy array is: 36.0 times faster then a python list for a same size\n"
          ],
          "name": "stdout"
        }
      ]
    },
    {
      "cell_type": "markdown",
      "metadata": {
        "id": "C1_TvZuZyCQf"
      },
      "source": [
        "If you run the above code several times, you will see that almost always NumPy arrays are faster than Python lists by a huge margin."
      ]
    },
    {
      "cell_type": "markdown",
      "metadata": {
        "id": "2kwv0EiQ6lWL"
      },
      "source": [
        "---"
      ]
    },
    {
      "cell_type": "markdown",
      "metadata": {
        "id": "vjz9h-lBLNat"
      },
      "source": [
        "#### Activity 6: The User-Defined `mode()` Function^^^\n",
        "\n",
        "Now let's create our own version of the `mode()` function. It should take a one-dimensional NumPy array (`input_array`) as an input and should return a pair of the modal value and its count as an output.\n",
        "\n",
        "To create this function:\n",
        "\n",
        "1. First we will create an empty Python list to store the count of every item in the `input_array`.\n",
        "\n",
        "  ```\n",
        "  counts_list = []\n",
        "  ```\n",
        "\n",
        "2. Next, we will convert the `input_array` to a Python list and store it in the `input_list` variable.\n",
        "\n",
        "  ```\n",
        "  input_list = list(input_array)\n",
        "  ```\n",
        "\n",
        "3. We will iterate through each item in the `input_list` and count its value. Then we will add the counts to the `counts_list` using the `append()` function.\n",
        "\n",
        "  ```\n",
        "  for item in input_list:\n",
        "      item_count = input_list.count(item)\n",
        "      counts_list.append(item_count)\n",
        "  ```\n",
        "\n",
        "4. Then we will convert the `counts_list` into a NumPy array.\n",
        "\n",
        "  ```\n",
        "  counts_array = np.array(counts_list)\n",
        "  ```\n",
        "\n",
        "5. Next, we will compute the maximum count value in the `counts_array` using the `count()` function.\n",
        "\n",
        "  ```\n",
        "  max_count = np.max(counts_array)\n",
        "  ```\n",
        "\n",
        "6. Then, we will find the index of the `max_count` value using the `index()` function.\n",
        "\n",
        "  ```\n",
        "  max_count_index = counts_list.index(max_count)\n",
        "  ```\n",
        "\n",
        "7. Finally, we will find the modal value using the list indexing method.\n",
        "  \n",
        "  ```\n",
        "  mode = input_list[max_count_index]\n",
        "  ```\n",
        "\n",
        "**Note:** There could be other ways to create the `mode()` function. You are free to explore them in your own time."
      ]
    },
    {
      "cell_type": "code",
      "metadata": {
        "id": "_fCdTIyI-zqL",
        "colab": {
          "base_uri": "https://localhost:8080/"
        },
        "outputId": "f1f9b131-c32a-421c-9386-2c620620ae45"
      },
      "source": [
        "# Student Action: Create the 'mode()' function which takes a 1D NumPy array as an input and returns the modal value and its count as an output.\n",
        "def mode(input_1d_ar):\n",
        "  count_list=[]\n",
        "  input_list=list(input_1d_ar)\n",
        "  for item in input_list:\n",
        "    item_count=input_list.count(item)\n",
        "    count_list.append(item_count)\n",
        "  counts=np.array(count_list)\n",
        "  max_count=np.max(counts)\n",
        "  max_count_index=count_list.index(max_count)\n",
        "  mode=input_list[max_count_index]\n",
        "  return mode,max_count\n",
        "mode(prices)\n"
      ],
      "execution_count": null,
      "outputs": [
        {
          "output_type": "execute_result",
          "data": {
            "text/plain": [
              "(9999, 2)"
            ]
          },
          "metadata": {
            "tags": []
          },
          "execution_count": 31
        }
      ]
    },
    {
      "cell_type": "markdown",
      "metadata": {
        "id": "eprcVQyBRvKJ"
      },
      "source": [
        "So, in this way, we can create the `mode()` function which takes a one-dimensional array as an input and returns a pair of the modal value and its count as an output.\n",
        "\n",
        "Now, we are well equipped to build the actual Mind Reader game algorithm. We will create it in the next class."
      ]
    },
    {
      "cell_type": "markdown",
      "metadata": {
        "id": "tYfqpd06TrIq"
      },
      "source": [
        "---"
      ]
    }
  ]
}